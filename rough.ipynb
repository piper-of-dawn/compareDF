{
 "cells": [
  {
   "cell_type": "code",
   "execution_count": 48,
   "metadata": {},
   "outputs": [],
   "source": [
    "import pandas as pd\n",
    "import numpy as np\n",
    "import polars as pl\n",
    "\n",
    "def read_dataframe(input_value):\n",
    "    \"\"\"\n",
    "    Accept a pandas DataFrame, numpy ndarray, polars DataFrame, or Python dictionary and return a polars DataFrame.\n",
    "    Supported types are: pandas DataFrame, numpy ndarray, polars DataFrame, and Python dictionary.\n",
    "    \"\"\"\n",
    "    input_types = {\n",
    "        pd.DataFrame: lambda x: pl.from_pandas(x),\n",
    "        np.ndarray: lambda x: pl.from_numpy(x),\n",
    "        pl.DataFrame: lambda x: x,\n",
    "        dict: lambda x: pl.from_dict(x),\n",
    "        list : lambda x: pl.from_records(x)\n",
    "    }\n",
    "    \n",
    "    try:\n",
    "        input_type = type(input_value)\n",
    "        if input_type not in input_types:\n",
    "            print(\"Supported types are: pandas DataFrame, numpy ndarray, polars DataFrame, and Python dictionary.\")\n",
    "            raise TypeError(\"Unsupported input type: {}\".format(input_type))\n",
    "        return input_types[input_type](input_value)\n",
    "    except Exception as e:\n",
    "        return \"Error: {}\".format(e)"
   ]
  },
  {
   "cell_type": "code",
   "execution_count": 35,
   "metadata": {},
   "outputs": [],
   "source": [
    "\n",
    "from polars.testing import assert_frame_equal\n",
    "def test_read_dataframe():\n",
    "    # Define test inputs\n",
    "    df = pd.DataFrame({'col1': [1, 2], 'col2': [3, 4]})\n",
    "    arr = np.array([[1, 2, 3], [4, 5, 6]])\n",
    "    pl_df = pl.DataFrame({'col1': [1, 2], 'col2': [3, 4]})\n",
    "    d = {'a': 1, 'b': 2}\n",
    "    lst = [[1, 2, 3],[2,3,4]]\n",
    "    \n",
    "    # Define expected outputs\n",
    "    expected_df = pl.DataFrame({'col1': [1, 2], 'col2': [3, 4]})\n",
    "    expected_arr = pl.DataFrame(np.array([[1, 2, 3], [4, 5, 6]]))\n",
    "    expected_pl_df = pl.DataFrame({'col1': [1, 2], 'col2': [3, 4]})\n",
    "    expected_d = pl.DataFrame({'a': [1], 'b': [2]})\n",
    "    expected_lst = pl.DataFrame([[1, 2, 3],[2,3,4]])\n",
    "    \n",
    "    # Call the function on each input and check the output\n",
    "    assert_frame_equal(read_dataframe(df), expected_df)\n",
    "    assert_frame_equal(read_dataframe(arr), expected_arr)\n",
    "    assert_frame_equal(read_dataframe(pl_df), expected_pl_df)\n",
    "    assert_frame_equal(read_dataframe(d), expected_d)\n",
    "    assert_frame_equal(read_dataframe(lst), expected_lst)\n",
    "   "
   ]
  },
  {
   "cell_type": "code",
   "execution_count": 28,
   "metadata": {},
   "outputs": [],
   "source": [
    "from collections import namedtuple\n",
    "class compareDataFrames:\n",
    "    def __init__(self, tested, cast_numeric=True, tolerance=6):\n",
    "        self.tested = tested\n",
    "        self._tolerance = 6\n",
    "        self.cast_numeric = cast_numeric\n",
    "        self._numeric_types = [pl.Int64, pl.Float64, pl.UInt64, pl.Int32, pl.Float32, pl.UInt32, pl.Int16, pl.UInt16, pl.Int8, pl.UInt8]\n",
    "        self._result = {}\n",
    "        self._mistmatched_schema = {}\n",
    "        \n",
    "    def compareSchemaOfDataFrames (self, expected):\n",
    "      if self.tested.schema == expected.schema:\n",
    "        self._result['schemaTest'] = True\n",
    "        print(\"Schema for the tested and the expected dataframes are the same.\")\n",
    "      else:\n",
    "        self._result['schemaTest'] = False\n",
    "        self._mistmatched_schema =  {name: [self.tested.schema[left], expected.schema[right]] for name, left, right in zip(('Tested', 'Expected'), self.tested.schema, expected.schema) if self.tested.schema[left] != expected.schema[right]}        \n",
    "    \n",
    "    def partitionColumnsOnType (self, expected) -> namedtuple:      \n",
    "      typePartitioned = namedtuple('type_partitioned', 'numeric non_numeric')\n",
    "      return typePartitioned(expected.select(pl.col(self._numeric_types)), expected.select(pl.col(\"*\").exclude(self._numeric_types))) \n",
    "    \n",
    "    def getCommonColumns (self, expected) -> list:\n",
    "      common_columns = set(self.tested.columns).intersection(expected.columns)\n",
    "      type_mismatched_columns = set(self._mistmatched_schema.keys())\n",
    "      type_mismatched_non_numeric_columns = set(key for key, tested_type, expected_type in self._mistmatched_schema.values() if tested_type not in self._numeric_types and expected_type not in self._numeric_types)\n",
    "      if common_columns in type_mismatched_columns:\n",
    "        print(\"There are columns with the same name but different data types.\")\n",
    "        if self.cast_numeric:\n",
    "          print(\"The numeric columns will be casted to the numeric type of the expected dataframes and non-numeric columns will be dropped.\")\n",
    "          common_columns = common_columns - type_mismatched_non_numeric_columns    \n",
    "      return common_columns\n",
    "    \n",
    "    def castNumericColumnsIntoSameType (self, expected, common_columns) -> pl.DataFrame:\n",
    "      type_mismatched_numeric_columns = set(key for key, tested_type, expected_type in self._mistmatched_schema.values() if tested_type in self._numeric_types and expected_type in self._numeric_types and tested_type != expected_type)\n",
    "      for column in type_mismatched_numeric_columns:\n",
    "          self.tested = self.tested.with_column(self.tested[column].cast(expected[column].dtype))\n",
    "      return self.tested\n",
    "    \n",
    "    def generateDifferencedDataFrameForNumericColumns (self, expected) -> pl.DataFrame:\n",
    "      differenced = self.tested - expected\n",
    "      return differenced\n",
    "    \n",
    "    def getMismatchedColumns (self, expected) -> list:\n",
    "      differenced = self.generateDifferencedDataFrameForNumericColumns(expected)\n",
    "      mismatched_column = namedtuple('mismatched_column', ['column_name','number_of_mismatches, relative_number_of_mismatches, maximum_deviation, minimum_deviation, mean_deviation, median_deviation, stdDev_deviation, relative_mean_deviation'])\n",
    "      mismatched_columns = []\n",
    "      for column in differenced.columns:\n",
    "        print(f\"Testing column: {column}\")\n",
    "        max_diff = differenced[column].max().round(self._tolerance)\n",
    "        min_diff = differenced[column].min().round(self._tolerance)\n",
    "        if max_diff == min_diff == 0:\n",
    "          pass\n",
    "        else:\n",
    "          number_of_mismatches = differenced[column].filter(pl.col(column) != 0).count()\n",
    "          relative_number_of_mismatches = number_of_mismatches / differenced[column].count()\n",
    "          maximum_deviation = max_diff\n",
    "          minimum_deviation = min_diff\n",
    "          mean_deviation = differenced[column].mean().round(self._tolerance)\n",
    "          median_deviation = differenced[column].median().round(self._tolerance)\n",
    "          stdDev_deviation = differenced[column].std().round(self._tolerance)\n",
    "          relative_mean_deviation = mean_deviation / expected[column].mean().round(self._tolerance)\n",
    "      mismatched_columns.append(mismatched_column(column, number_of_mismatches, relative_number_of_mismatches, maximum_deviation, minimum_deviation, mean_deviation, median_deviation, stdDev_deviation, relative_mean_deviation))\n",
    "      print(f\"{len(mismatched_columns)} columns have mismatched values between the tested and the expected dataframes.\")\n",
    "      return mismatched_columns\n",
    "    \n",
    "       \n",
    "       \n",
    "          \n",
    "          \n",
    "          \n",
    "          \n",
    "        \n",
    "        \n",
    "    \n",
    "    \n",
    "    \n",
    "        \n",
    "      \n",
    "    \n",
    "    \n",
    "    def __call__(self, func):\n",
    "        def wrapper(*args, **kwargs):\n",
    "          expected = func(*args, **kwargs)\n",
    "          return expected\n",
    "        return wrapper\n",
    "    \n",
    "    \n"
   ]
  },
  {
   "cell_type": "code",
   "execution_count": 110,
   "metadata": {},
   "outputs": [],
   "source": [
    "from collections import namedtuple\n",
    "def partition_columns_on_type (df) -> namedtuple:\n",
    "  numeric_columns = [pl.Int64, pl.Float64, pl.UInt64, pl.Int32, pl.Float32, pl.UInt32, pl.Int16, pl.UInt16, pl.Int8, pl.UInt8]\n",
    "  typePartitioned = namedtuple('type_partitioned', 'numeric non_numeric')\n",
    "  return typePartitioned(df.select(pl.col(numeric_columns)), df.select(pl.col(\"*\").exclude(numeric_columns)))"
   ]
  },
  {
   "cell_type": "code",
   "execution_count": 114,
   "metadata": {},
   "outputs": [],
   "source": [
    "df = pl.read_parquet('glassdoor.parquet')\n",
    "df1 = pl.read_parquet('glassdoor.parquet')"
   ]
  },
  {
   "cell_type": "code",
   "execution_count": 117,
   "metadata": {},
   "outputs": [],
   "source": [
    "df = partition_columns_on_type(df).numeric\n",
    "df1 = partition_columns_on_type(df1).numeric"
   ]
  },
  {
   "cell_type": "code",
   "execution_count": 119,
   "metadata": {},
   "outputs": [],
   "source": [
    "diff = df - df1"
   ]
  },
  {
   "cell_type": "code",
   "execution_count": 138,
   "metadata": {},
   "outputs": [
    {
     "data": {
      "text/plain": [
       "{'Jobs': 0, 'Salaries': 0, 'Reviews': 0, 'Rating': 0.0, 'Employees': 0.0}"
      ]
     },
     "execution_count": 138,
     "metadata": {},
     "output_type": "execute_result"
    }
   ],
   "source": [
    "diff.sum().to_dicts()[0]"
   ]
  },
  {
   "cell_type": "code",
   "execution_count": 144,
   "metadata": {},
   "outputs": [],
   "source": [
    "def get_mismatched_columns (diff):\n",
    "  misma\n",
    "  return [key for key in  if diff.sum().to_dicts()[0][key] == 0]"
   ]
  },
  {
   "cell_type": "code",
   "execution_count": 145,
   "metadata": {},
   "outputs": [
    {
     "data": {
      "text/plain": [
       "2.067050999999992"
      ]
     },
     "execution_count": 145,
     "metadata": {},
     "output_type": "execute_result"
    }
   ],
   "source": []
  },
  {
   "cell_type": "code",
   "execution_count": null,
   "metadata": {},
   "outputs": [],
   "source": []
  }
 ],
 "metadata": {
  "kernelspec": {
   "display_name": "Python 3",
   "language": "python",
   "name": "python3"
  },
  "language_info": {
   "codemirror_mode": {
    "name": "ipython",
    "version": 3
   },
   "file_extension": ".py",
   "mimetype": "text/x-python",
   "name": "python",
   "nbconvert_exporter": "python",
   "pygments_lexer": "ipython3",
   "version": "3.11.3"
  },
  "orig_nbformat": 4
 },
 "nbformat": 4,
 "nbformat_minor": 2
}
